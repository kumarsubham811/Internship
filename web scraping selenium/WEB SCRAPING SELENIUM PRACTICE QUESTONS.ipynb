{
 "cells": [
  {
   "cell_type": "markdown",
   "id": "c99cadd8",
   "metadata": {},
   "source": [
    "# NAME - SUBHAM\n",
    "# BATCH - DS2401\n",
    "# WEB SCRAPING SELENIUM PRACTICE QUESTIONS\n",
    "# DATE WHEN PRACTICE QUESTION WERE GIVEN - 4 MARCH 2024"
   ]
  },
  {
   "cell_type": "code",
   "execution_count": 61,
   "id": "ad065092",
   "metadata": {},
   "outputs": [
    {
     "name": "stdout",
     "output_type": "stream",
     "text": [
      "Requirement already satisfied: selenium in c:\\users\\dell\\anaconda3\\lib\\site-packages (4.18.1)\n",
      "Requirement already satisfied: urllib3[socks]<3,>=1.26 in c:\\users\\dell\\anaconda3\\lib\\site-packages (from selenium) (1.26.16)\n",
      "Requirement already satisfied: trio~=0.17 in c:\\users\\dell\\anaconda3\\lib\\site-packages (from selenium) (0.24.0)\n",
      "Requirement already satisfied: trio-websocket~=0.9 in c:\\users\\dell\\anaconda3\\lib\\site-packages (from selenium) (0.11.1)\n",
      "Requirement already satisfied: certifi>=2021.10.8 in c:\\users\\dell\\anaconda3\\lib\\site-packages (from selenium) (2023.7.22)\n",
      "Requirement already satisfied: typing_extensions>=4.9.0 in c:\\users\\dell\\anaconda3\\lib\\site-packages (from selenium) (4.10.0)\n",
      "Requirement already satisfied: attrs>=20.1.0 in c:\\users\\dell\\anaconda3\\lib\\site-packages (from trio~=0.17->selenium) (22.1.0)\n",
      "Requirement already satisfied: sortedcontainers in c:\\users\\dell\\anaconda3\\lib\\site-packages (from trio~=0.17->selenium) (2.4.0)\n",
      "Requirement already satisfied: idna in c:\\users\\dell\\anaconda3\\lib\\site-packages (from trio~=0.17->selenium) (3.4)\n",
      "Requirement already satisfied: outcome in c:\\users\\dell\\anaconda3\\lib\\site-packages (from trio~=0.17->selenium) (1.3.0.post0)\n",
      "Requirement already satisfied: sniffio>=1.3.0 in c:\\users\\dell\\anaconda3\\lib\\site-packages (from trio~=0.17->selenium) (1.3.1)\n",
      "Requirement already satisfied: cffi>=1.14 in c:\\users\\dell\\anaconda3\\lib\\site-packages (from trio~=0.17->selenium) (1.15.1)\n",
      "Requirement already satisfied: wsproto>=0.14 in c:\\users\\dell\\anaconda3\\lib\\site-packages (from trio-websocket~=0.9->selenium) (1.2.0)\n",
      "Requirement already satisfied: PySocks!=1.5.7,<2.0,>=1.5.6 in c:\\users\\dell\\anaconda3\\lib\\site-packages (from urllib3[socks]<3,>=1.26->selenium) (1.7.1)\n",
      "Requirement already satisfied: pycparser in c:\\users\\dell\\anaconda3\\lib\\site-packages (from cffi>=1.14->trio~=0.17->selenium) (2.21)\n",
      "Requirement already satisfied: h11<1,>=0.9.0 in c:\\users\\dell\\anaconda3\\lib\\site-packages (from wsproto>=0.14->trio-websocket~=0.9->selenium) (0.14.0)\n"
     ]
    }
   ],
   "source": [
    "!pip install selenium\n"
   ]
  },
  {
   "cell_type": "code",
   "execution_count": 62,
   "id": "44d85766",
   "metadata": {},
   "outputs": [],
   "source": [
    "import selenium\n",
    "from selenium import webdriver\n",
    "import warnings\n",
    "warnings.filterwarnings('ignore')\n",
    "from selenium.webdriver.common.by import By\n",
    "import time"
   ]
  },
  {
   "cell_type": "code",
   "execution_count": 84,
   "id": "16087a46",
   "metadata": {},
   "outputs": [],
   "source": [
    "#question 1\n",
    "driver = webdriver.Chrome()\n"
   ]
  },
  {
   "cell_type": "code",
   "execution_count": 85,
   "id": "ee0f0e12",
   "metadata": {},
   "outputs": [],
   "source": [
    "#steps 1: get the webpage\n",
    "driver.get('https://www.shine.com/ ')"
   ]
  },
  {
   "cell_type": "code",
   "execution_count": 87,
   "id": "cf74fafe",
   "metadata": {},
   "outputs": [],
   "source": [
    "#step 2: enter data analyst in the jobs,skills field and enter bangalore in the location field \n",
    "designation=driver.find_element(By.CLASS_NAME,\"form-control  \")\n",
    "designation.send_keys('Data Analyst')\n"
   ]
  },
  {
   "cell_type": "code",
   "execution_count": 88,
   "id": "492157b1",
   "metadata": {},
   "outputs": [],
   "source": [
    "location=driver.find_element(By.XPATH,\"/html/body/div/div[4]/div/div[2]/div[2]/div/form/div/div[1]/ul/li[2]/div/input\")\n",
    "location.send_keys('Bangalore')"
   ]
  },
  {
   "cell_type": "code",
   "execution_count": 89,
   "id": "d0af04af",
   "metadata": {},
   "outputs": [],
   "source": [
    "#step 3: click the search button\n",
    "search=driver.find_element(By.CLASS_NAME,\"searchForm_btnWrap_advance__VYBHN\")\n",
    "search.click()"
   ]
  },
  {
   "cell_type": "code",
   "execution_count": 90,
   "id": "2252f1fc",
   "metadata": {},
   "outputs": [],
   "source": [
    "#step 4: scraping 10 job results\n",
    "job_title=[]\n",
    "job_location=[]\n",
    "company_name=[]\n",
    "experience_required=[]"
   ]
  },
  {
   "cell_type": "code",
   "execution_count": 91,
   "id": "1f6b4480",
   "metadata": {},
   "outputs": [
    {
     "data": {
      "text/plain": [
       "['Clinical Data Analyst',\n",
       " 'Data Analyst',\n",
       " 'Hiring For Data Analyst',\n",
       " 'Lead Data Analyst',\n",
       " 'Data Analyst',\n",
       " 'Technical Data Architect',\n",
       " 'Data Science Architect',\n",
       " 'Data Engineer',\n",
       " 'Clinical Data Associate',\n",
       " 'Part-Time Data Entry Operator work']"
      ]
     },
     "execution_count": 91,
     "metadata": {},
     "output_type": "execute_result"
    }
   ],
   "source": [
    "title_tags=driver.find_elements(By.XPATH,'//div[@class=\"parentClass position-relative\"]//div//div//div//h2//a')\n",
    "for i in title_tags:\n",
    "    title=i.text\n",
    "    job_title.append(title)\n",
    "job_title[0:10]"
   ]
  },
  {
   "cell_type": "code",
   "execution_count": 92,
   "id": "d24311ce",
   "metadata": {},
   "outputs": [
    {
     "data": {
      "text/plain": [
       "['Bangalore\\n+6',\n",
       " 'Bangalore\\n+9',\n",
       " 'Bangalore\\n+12',\n",
       " 'Bangalore',\n",
       " 'Bangalore\\n+3',\n",
       " 'Bangalore',\n",
       " 'Bangalore\\n+4',\n",
       " 'Bangalore',\n",
       " 'Bangalore\\n+6',\n",
       " 'Bangalore\\n+9']"
      ]
     },
     "execution_count": 92,
     "metadata": {},
     "output_type": "execute_result"
    }
   ],
   "source": [
    "location_tags=driver.find_elements(By.XPATH,'//div[@class=\" jobCard_jobCard_lists_item__YxRkV jobCard_locationIcon__zrWt2\"]')\n",
    "for i in location_tags:\n",
    "    location=i.text\n",
    "    job_location.append(location)\n",
    "job_location[:10]"
   ]
  },
  {
   "cell_type": "code",
   "execution_count": 93,
   "id": "20cbf1cb",
   "metadata": {},
   "outputs": [
    {
     "data": {
      "text/plain": [
       "['techno endura',\n",
       " 'sahast sales corporation',\n",
       " 'radhika enterprises',\n",
       " 'ara resources private limited',\n",
       " 'diraa hr services hiring for mncs',\n",
       " 'uprighthc solutions private limited',\n",
       " 'symphoni hr pvt. ltd.',\n",
       " 'spm hr solutions',\n",
       " 'techno endura',\n",
       " 'aspect solution']"
      ]
     },
     "execution_count": 93,
     "metadata": {},
     "output_type": "execute_result"
    }
   ],
   "source": [
    "company_tags=driver.find_elements(By.XPATH,'//div[@class=\"jobCard_jobCard_cName__mYnow\"]//span')\n",
    "for i in company_tags:\n",
    "    company=i.text\n",
    "    company_name.append(company)\n",
    "company_name[:10]"
   ]
  },
  {
   "cell_type": "code",
   "execution_count": 94,
   "id": "3a820b42",
   "metadata": {},
   "outputs": [
    {
     "data": {
      "text/plain": [
       "['0 to 1 Yr',\n",
       " '12 to 22 Yrs',\n",
       " '0 to 4 Yrs',\n",
       " '4 to 9 Yrs',\n",
       " '0 to 1 Yr',\n",
       " '10 to 20 Yrs',\n",
       " '8 to 10 Yrs',\n",
       " '4 to 6 Yrs',\n",
       " '0 to 1 Yr',\n",
       " '0 to 1 Yr']"
      ]
     },
     "execution_count": 94,
     "metadata": {},
     "output_type": "execute_result"
    }
   ],
   "source": [
    "experience_tags=driver.find_elements(By.XPATH,'//div[@class=\" jobCard_jobCard_lists_item__YxRkV jobCard_jobIcon__3FB1t\"]')\n",
    "for i in experience_tags:\n",
    "    exp=i.text\n",
    "    experience_required.append(exp)\n",
    "experience_required[:10]"
   ]
  },
  {
   "cell_type": "code",
   "execution_count": 95,
   "id": "08068380",
   "metadata": {},
   "outputs": [
    {
     "data": {
      "text/html": [
       "<div>\n",
       "<style scoped>\n",
       "    .dataframe tbody tr th:only-of-type {\n",
       "        vertical-align: middle;\n",
       "    }\n",
       "\n",
       "    .dataframe tbody tr th {\n",
       "        vertical-align: top;\n",
       "    }\n",
       "\n",
       "    .dataframe thead th {\n",
       "        text-align: right;\n",
       "    }\n",
       "</style>\n",
       "<table border=\"1\" class=\"dataframe\">\n",
       "  <thead>\n",
       "    <tr style=\"text-align: right;\">\n",
       "      <th></th>\n",
       "      <th>job titles</th>\n",
       "      <th>job location</th>\n",
       "      <th>company name</th>\n",
       "      <th>experience required</th>\n",
       "    </tr>\n",
       "  </thead>\n",
       "  <tbody>\n",
       "    <tr>\n",
       "      <th>0</th>\n",
       "      <td>Clinical Data Analyst</td>\n",
       "      <td>Bangalore\\n+6</td>\n",
       "      <td>techno endura</td>\n",
       "      <td>0 to 1 Yr</td>\n",
       "    </tr>\n",
       "    <tr>\n",
       "      <th>1</th>\n",
       "      <td>Data Analyst</td>\n",
       "      <td>Bangalore\\n+9</td>\n",
       "      <td>sahast sales corporation</td>\n",
       "      <td>12 to 22 Yrs</td>\n",
       "    </tr>\n",
       "    <tr>\n",
       "      <th>2</th>\n",
       "      <td>Hiring For Data Analyst</td>\n",
       "      <td>Bangalore\\n+12</td>\n",
       "      <td>radhika enterprises</td>\n",
       "      <td>0 to 4 Yrs</td>\n",
       "    </tr>\n",
       "    <tr>\n",
       "      <th>3</th>\n",
       "      <td>Lead Data Analyst</td>\n",
       "      <td>Bangalore</td>\n",
       "      <td>ara resources private limited</td>\n",
       "      <td>4 to 9 Yrs</td>\n",
       "    </tr>\n",
       "    <tr>\n",
       "      <th>4</th>\n",
       "      <td>Data Analyst</td>\n",
       "      <td>Bangalore\\n+3</td>\n",
       "      <td>diraa hr services hiring for mncs</td>\n",
       "      <td>0 to 1 Yr</td>\n",
       "    </tr>\n",
       "    <tr>\n",
       "      <th>5</th>\n",
       "      <td>Technical Data Architect</td>\n",
       "      <td>Bangalore</td>\n",
       "      <td>uprighthc solutions private limited</td>\n",
       "      <td>10 to 20 Yrs</td>\n",
       "    </tr>\n",
       "    <tr>\n",
       "      <th>6</th>\n",
       "      <td>Data Science Architect</td>\n",
       "      <td>Bangalore\\n+4</td>\n",
       "      <td>symphoni hr pvt. ltd.</td>\n",
       "      <td>8 to 10 Yrs</td>\n",
       "    </tr>\n",
       "    <tr>\n",
       "      <th>7</th>\n",
       "      <td>Data Engineer</td>\n",
       "      <td>Bangalore</td>\n",
       "      <td>spm hr solutions</td>\n",
       "      <td>4 to 6 Yrs</td>\n",
       "    </tr>\n",
       "    <tr>\n",
       "      <th>8</th>\n",
       "      <td>Clinical Data Associate</td>\n",
       "      <td>Bangalore\\n+6</td>\n",
       "      <td>techno endura</td>\n",
       "      <td>0 to 1 Yr</td>\n",
       "    </tr>\n",
       "    <tr>\n",
       "      <th>9</th>\n",
       "      <td>Part-Time Data Entry Operator work</td>\n",
       "      <td>Bangalore\\n+9</td>\n",
       "      <td>aspect solution</td>\n",
       "      <td>0 to 1 Yr</td>\n",
       "    </tr>\n",
       "  </tbody>\n",
       "</table>\n",
       "</div>"
      ],
      "text/plain": [
       "                           job titles    job location  \\\n",
       "0               Clinical Data Analyst   Bangalore\\n+6   \n",
       "1                        Data Analyst   Bangalore\\n+9   \n",
       "2             Hiring For Data Analyst  Bangalore\\n+12   \n",
       "3                   Lead Data Analyst       Bangalore   \n",
       "4                        Data Analyst   Bangalore\\n+3   \n",
       "5            Technical Data Architect       Bangalore   \n",
       "6              Data Science Architect   Bangalore\\n+4   \n",
       "7                       Data Engineer       Bangalore   \n",
       "8             Clinical Data Associate   Bangalore\\n+6   \n",
       "9  Part-Time Data Entry Operator work   Bangalore\\n+9   \n",
       "\n",
       "                          company name experience required  \n",
       "0                        techno endura           0 to 1 Yr  \n",
       "1             sahast sales corporation        12 to 22 Yrs  \n",
       "2                  radhika enterprises          0 to 4 Yrs  \n",
       "3        ara resources private limited          4 to 9 Yrs  \n",
       "4    diraa hr services hiring for mncs           0 to 1 Yr  \n",
       "5  uprighthc solutions private limited        10 to 20 Yrs  \n",
       "6                symphoni hr pvt. ltd.         8 to 10 Yrs  \n",
       "7                     spm hr solutions          4 to 6 Yrs  \n",
       "8                        techno endura           0 to 1 Yr  \n",
       "9                      aspect solution           0 to 1 Yr  "
      ]
     },
     "execution_count": 95,
     "metadata": {},
     "output_type": "execute_result"
    }
   ],
   "source": [
    "#step 5: creating a dataframe and putting values into it\n",
    "import pandas as pd\n",
    "df=pd.DataFrame({'job titles':job_title[:10],'job location':job_location[:10],'company name':company_name[:10],'experience required':experience_required[:10]})\n",
    "df"
   ]
  },
  {
   "cell_type": "code",
   "execution_count": 96,
   "id": "ace7cd13",
   "metadata": {},
   "outputs": [],
   "source": [
    "#question 2\n",
    "driver1=webdriver.Chrome()"
   ]
  },
  {
   "cell_type": "code",
   "execution_count": 97,
   "id": "da457541",
   "metadata": {},
   "outputs": [],
   "source": [
    "#steps 1: get the webpage\n",
    "driver1.get('https://www.naukri.com/')"
   ]
  },
  {
   "cell_type": "code",
   "execution_count": 98,
   "id": "6983f96f",
   "metadata": {},
   "outputs": [],
   "source": [
    "#step 2: enter data analyst in the jobs,skills field and enter bangalore in the location field \n",
    "designation1=driver1.find_element(By.CLASS_NAME,\"suggestor-input \")\n",
    "designation1.send_keys('Data Analyst')"
   ]
  },
  {
   "cell_type": "code",
   "execution_count": 99,
   "id": "0fcf1149",
   "metadata": {},
   "outputs": [],
   "source": [
    "location1=driver1.find_element(By.XPATH,'/html/body/div[1]/div[7]/div/div/div[5]/div/div/div/div[1]/div/input')\n",
    "location1.send_keys('bangalore')"
   ]
  },
  {
   "cell_type": "code",
   "execution_count": 100,
   "id": "2ae7b508",
   "metadata": {},
   "outputs": [],
   "source": [
    "#step 3: click the search button\n",
    "search1=driver1.find_element(By.XPATH,'/html/body/div[1]/div[7]/div/div/div[6]')\n",
    "search1.click()"
   ]
  },
  {
   "cell_type": "code",
   "execution_count": 101,
   "id": "8d4f0887",
   "metadata": {},
   "outputs": [],
   "source": [
    "#step 4: scraping the results\n",
    "title1=[]\n",
    "location1=[]\n",
    "company1=[]\n",
    "experience1=[]"
   ]
  },
  {
   "cell_type": "code",
   "execution_count": 102,
   "id": "3056c889",
   "metadata": {},
   "outputs": [
    {
     "data": {
      "text/plain": [
       "['Data Analyst',\n",
       " 'Data Analyst',\n",
       " 'Data Analyst',\n",
       " 'Data Analyst',\n",
       " 'Data Analyst',\n",
       " '',\n",
       " '',\n",
       " '',\n",
       " 'Data Analyst',\n",
       " 'Data Analyst',\n",
       " 'Job opportunity _ Data Analyst',\n",
       " 'Data Sourcing & Triage Analyst',\n",
       " 'Online Data Analyst',\n",
       " 'Data Analyst',\n",
       " 'Data Services Analyst III',\n",
       " 'AWS Data Engineer/Data Analyst - Need Immediate_Deloitte',\n",
       " 'Data Analyst',\n",
       " 'Data Analyst',\n",
       " 'Data Analyst',\n",
       " 'Data Analyst',\n",
       " 'Platform Data Analyst',\n",
       " 'Data Analyst',\n",
       " 'ETL - Data Analyst',\n",
       " 'Data Analyst (automotive)',\n",
       " 'FHIR Data Analyst']"
      ]
     },
     "execution_count": 102,
     "metadata": {},
     "output_type": "execute_result"
    }
   ],
   "source": [
    "title=driver1.find_elements(By.XPATH,'//div[@class=\" row1\"]//a')\n",
    "for i in title:\n",
    "    title2=i.text\n",
    "    title1.append(title2)\n",
    "title1"
   ]
  },
  {
   "cell_type": "code",
   "execution_count": 103,
   "id": "01a54d53",
   "metadata": {},
   "outputs": [
    {
     "name": "stdout",
     "output_type": "stream",
     "text": [
      "['Data Analyst', 'Data Analyst', 'Data Analyst', 'Data Analyst', '', 'Data Analyst', 'Job opportunity _ Data Analyst', 'Online Data Analyst', 'Data Analyst', 'Data Services Analyst III', 'AWS Data Engineer/Data Analyst - Need Immediate_Deloitte', 'Data Analyst', 'Data Analyst', 'Data Analyst', 'Data Analyst', 'Platform Data Analyst', 'Data Analyst', 'ETL - Data Analyst', 'Data Analyst (automotive)', 'FHIR Data Analyst']\n"
     ]
    }
   ],
   "source": [
    "#there are 20 elements in all other data but only this class of job title has 25 so i have deleted the extra data\n",
    "#any class i'm taking it's having 25 or more elements so i have to do it this way\n",
    "title1.pop(3)\n",
    "title1.pop(4)\n",
    "title1.pop(5)\n",
    "title1.pop(6)\n",
    "title1.pop(7)\n",
    "print(title1)"
   ]
  },
  {
   "cell_type": "code",
   "execution_count": 104,
   "id": "365dfe11",
   "metadata": {},
   "outputs": [
    {
     "data": {
      "text/plain": [
       "20"
      ]
     },
     "execution_count": 104,
     "metadata": {},
     "output_type": "execute_result"
    }
   ],
   "source": [
    "len(title1)"
   ]
  },
  {
   "cell_type": "code",
   "execution_count": 105,
   "id": "6ef023a5",
   "metadata": {},
   "outputs": [
    {
     "data": {
      "text/plain": [
       "['Data Analyst',\n",
       " 'Data Analyst',\n",
       " 'Data Analyst',\n",
       " 'Data Analyst',\n",
       " '',\n",
       " 'Data Analyst',\n",
       " 'Job opportunity _ Data Analyst',\n",
       " 'Online Data Analyst',\n",
       " 'Data Analyst',\n",
       " 'Data Services Analyst III',\n",
       " 'AWS Data Engineer/Data Analyst - Need Immediate_Deloitte',\n",
       " 'Data Analyst',\n",
       " 'Data Analyst',\n",
       " 'Data Analyst',\n",
       " 'Data Analyst',\n",
       " 'Platform Data Analyst',\n",
       " 'Data Analyst',\n",
       " 'ETL - Data Analyst',\n",
       " 'Data Analyst (automotive)',\n",
       " 'FHIR Data Analyst']"
      ]
     },
     "execution_count": 105,
     "metadata": {},
     "output_type": "execute_result"
    }
   ],
   "source": [
    "title1"
   ]
  },
  {
   "cell_type": "code",
   "execution_count": 106,
   "id": "5538f86f",
   "metadata": {},
   "outputs": [
    {
     "data": {
      "text/plain": [
       "['Bengaluru',\n",
       " 'Mumbai, Bengaluru',\n",
       " 'Remote',\n",
       " 'Hybrid - Bangalore Rural, Karnataka, Hyderabad, Telangana, Chennai, Tamil Nadu',\n",
       " 'Bengaluru(4th Phase JP Nagar)',\n",
       " 'Bangalore Rural, Karnataka, Hyderabad, Telangana, India',\n",
       " 'Bengaluru',\n",
       " 'Kolkata, Mumbai, New Delhi, Hyderabad, Pune, Chennai, Bengaluru',\n",
       " 'Hyderabad, Bengaluru, Delhi / NCR',\n",
       " 'Bengaluru',\n",
       " 'Bangalore Rural, Karnataka, Hyderabad, Telangana',\n",
       " 'Hyderabad, Bengaluru',\n",
       " 'Hyderabad, Bengaluru, Delhi / NCR',\n",
       " 'Bengaluru',\n",
       " 'Bengaluru',\n",
       " 'Bengaluru',\n",
       " 'Hybrid - Bengaluru(Bannerghatta Road)',\n",
       " 'Bengaluru',\n",
       " 'Bangalore/Bengaluru(Domlur)',\n",
       " 'Bengaluru']"
      ]
     },
     "execution_count": 106,
     "metadata": {},
     "output_type": "execute_result"
    }
   ],
   "source": [
    "location=driver1.find_elements(By.XPATH,'//span[@class=\"ni-job-tuple-icon ni-job-tuple-icon-srp-location loc\"]//span')\n",
    "for i in location:\n",
    "    location2=i.text\n",
    "    location1.append(location2)\n",
    "location1"
   ]
  },
  {
   "cell_type": "code",
   "execution_count": 107,
   "id": "2902bc51",
   "metadata": {},
   "outputs": [
    {
     "data": {
      "text/plain": [
       "['Target',\n",
       " 'FedEx TSCS (India) Pvt Ltd',\n",
       " 'Puresoftware',\n",
       " 'Tsit Digital Technologies',\n",
       " 'Objectwin Technology',\n",
       " 'Janes',\n",
       " 'TELUS International',\n",
       " 'Incanus Technologies',\n",
       " 'Zoom Info',\n",
       " 'Tata Consultancy Services (TCS)',\n",
       " 'Softtek',\n",
       " 'NetSkope Software',\n",
       " 'Saltmine',\n",
       " 'LKQ India',\n",
       " '2coms',\n",
       " 'Infosys']"
      ]
     },
     "execution_count": 107,
     "metadata": {},
     "output_type": "execute_result"
    }
   ],
   "source": [
    "#there are only 16 company names others are present in website but they have an entire different class through i'm able to scrap\n",
    "#at most these\n",
    "company=driver1.find_elements(By.XPATH,'//a[@class=\" comp-name mw-25\"]')\n",
    "for i in company:\n",
    "    company2=i.text\n",
    "    company1.append(company2)\n",
    "company1"
   ]
  },
  {
   "cell_type": "code",
   "execution_count": 108,
   "id": "39cec6a8",
   "metadata": {},
   "outputs": [
    {
     "data": {
      "text/plain": [
       "['2-4 Yrs',\n",
       " '1-4 Yrs',\n",
       " '5-10 Yrs',\n",
       " '5-10 Yrs',\n",
       " '1-5 Yrs',\n",
       " '6-10 Yrs',\n",
       " '0-3 Yrs',\n",
       " '1-4 Yrs',\n",
       " '0-5 Yrs',\n",
       " '4-8 Yrs',\n",
       " '5-8 Yrs',\n",
       " '6-10 Yrs',\n",
       " '4-9 Yrs',\n",
       " '4-6 Yrs',\n",
       " '3-5 Yrs',\n",
       " '2-4 Yrs',\n",
       " '2-5 Yrs',\n",
       " '5-10 Yrs',\n",
       " '5-6 Yrs',\n",
       " '3-6 Yrs']"
      ]
     },
     "execution_count": 108,
     "metadata": {},
     "output_type": "execute_result"
    }
   ],
   "source": [
    "experience=driver1.find_elements(By.XPATH,'//span[@class=\"ni-job-tuple-icon ni-job-tuple-icon-srp-experience exp\"]//span')\n",
    "for i in experience:\n",
    "    experience2=i.text\n",
    "    experience1.append(experience2)\n",
    "experience1"
   ]
  },
  {
   "cell_type": "code",
   "execution_count": 109,
   "id": "b994a62d",
   "metadata": {},
   "outputs": [
    {
     "data": {
      "text/html": [
       "<div>\n",
       "<style scoped>\n",
       "    .dataframe tbody tr th:only-of-type {\n",
       "        vertical-align: middle;\n",
       "    }\n",
       "\n",
       "    .dataframe tbody tr th {\n",
       "        vertical-align: top;\n",
       "    }\n",
       "\n",
       "    .dataframe thead th {\n",
       "        text-align: right;\n",
       "    }\n",
       "</style>\n",
       "<table border=\"1\" class=\"dataframe\">\n",
       "  <thead>\n",
       "    <tr style=\"text-align: right;\">\n",
       "      <th></th>\n",
       "      <th>job titles</th>\n",
       "      <th>job location</th>\n",
       "      <th>compamy name</th>\n",
       "      <th>experience required</th>\n",
       "    </tr>\n",
       "  </thead>\n",
       "  <tbody>\n",
       "    <tr>\n",
       "      <th>0</th>\n",
       "      <td>Data Analyst</td>\n",
       "      <td>Bengaluru</td>\n",
       "      <td>Target</td>\n",
       "      <td>2-4 Yrs</td>\n",
       "    </tr>\n",
       "    <tr>\n",
       "      <th>1</th>\n",
       "      <td>Data Analyst</td>\n",
       "      <td>Mumbai, Bengaluru</td>\n",
       "      <td>FedEx TSCS (India) Pvt Ltd</td>\n",
       "      <td>1-4 Yrs</td>\n",
       "    </tr>\n",
       "    <tr>\n",
       "      <th>2</th>\n",
       "      <td>Data Analyst</td>\n",
       "      <td>Remote</td>\n",
       "      <td>Puresoftware</td>\n",
       "      <td>5-10 Yrs</td>\n",
       "    </tr>\n",
       "    <tr>\n",
       "      <th>3</th>\n",
       "      <td>Data Analyst</td>\n",
       "      <td>Hybrid - Bangalore Rural, Karnataka, Hyderabad...</td>\n",
       "      <td>Tsit Digital Technologies</td>\n",
       "      <td>5-10 Yrs</td>\n",
       "    </tr>\n",
       "    <tr>\n",
       "      <th>4</th>\n",
       "      <td></td>\n",
       "      <td>Bengaluru(4th Phase JP Nagar)</td>\n",
       "      <td>Objectwin Technology</td>\n",
       "      <td>1-5 Yrs</td>\n",
       "    </tr>\n",
       "    <tr>\n",
       "      <th>5</th>\n",
       "      <td>Data Analyst</td>\n",
       "      <td>Bangalore Rural, Karnataka, Hyderabad, Telanga...</td>\n",
       "      <td>Janes</td>\n",
       "      <td>6-10 Yrs</td>\n",
       "    </tr>\n",
       "    <tr>\n",
       "      <th>6</th>\n",
       "      <td>Job opportunity _ Data Analyst</td>\n",
       "      <td>Bengaluru</td>\n",
       "      <td>TELUS International</td>\n",
       "      <td>0-3 Yrs</td>\n",
       "    </tr>\n",
       "    <tr>\n",
       "      <th>7</th>\n",
       "      <td>Online Data Analyst</td>\n",
       "      <td>Kolkata, Mumbai, New Delhi, Hyderabad, Pune, C...</td>\n",
       "      <td>Incanus Technologies</td>\n",
       "      <td>1-4 Yrs</td>\n",
       "    </tr>\n",
       "    <tr>\n",
       "      <th>8</th>\n",
       "      <td>Data Analyst</td>\n",
       "      <td>Hyderabad, Bengaluru, Delhi / NCR</td>\n",
       "      <td>Zoom Info</td>\n",
       "      <td>0-5 Yrs</td>\n",
       "    </tr>\n",
       "    <tr>\n",
       "      <th>9</th>\n",
       "      <td>Data Services Analyst III</td>\n",
       "      <td>Bengaluru</td>\n",
       "      <td>Tata Consultancy Services (TCS)</td>\n",
       "      <td>4-8 Yrs</td>\n",
       "    </tr>\n",
       "  </tbody>\n",
       "</table>\n",
       "</div>"
      ],
      "text/plain": [
       "                       job titles  \\\n",
       "0                    Data Analyst   \n",
       "1                    Data Analyst   \n",
       "2                    Data Analyst   \n",
       "3                    Data Analyst   \n",
       "4                                   \n",
       "5                    Data Analyst   \n",
       "6  Job opportunity _ Data Analyst   \n",
       "7             Online Data Analyst   \n",
       "8                    Data Analyst   \n",
       "9       Data Services Analyst III   \n",
       "\n",
       "                                        job location  \\\n",
       "0                                          Bengaluru   \n",
       "1                                  Mumbai, Bengaluru   \n",
       "2                                             Remote   \n",
       "3  Hybrid - Bangalore Rural, Karnataka, Hyderabad...   \n",
       "4                      Bengaluru(4th Phase JP Nagar)   \n",
       "5  Bangalore Rural, Karnataka, Hyderabad, Telanga...   \n",
       "6                                          Bengaluru   \n",
       "7  Kolkata, Mumbai, New Delhi, Hyderabad, Pune, C...   \n",
       "8                  Hyderabad, Bengaluru, Delhi / NCR   \n",
       "9                                          Bengaluru   \n",
       "\n",
       "                      compamy name experience required  \n",
       "0                           Target             2-4 Yrs  \n",
       "1       FedEx TSCS (India) Pvt Ltd             1-4 Yrs  \n",
       "2                     Puresoftware            5-10 Yrs  \n",
       "3        Tsit Digital Technologies            5-10 Yrs  \n",
       "4             Objectwin Technology             1-5 Yrs  \n",
       "5                            Janes            6-10 Yrs  \n",
       "6              TELUS International             0-3 Yrs  \n",
       "7             Incanus Technologies             1-4 Yrs  \n",
       "8                        Zoom Info             0-5 Yrs  \n",
       "9  Tata Consultancy Services (TCS)             4-8 Yrs  "
      ]
     },
     "execution_count": 109,
     "metadata": {},
     "output_type": "execute_result"
    }
   ],
   "source": [
    "#step 5: creating a dataframe and storing first 10 results we get\n",
    "df2=pd.DataFrame({'job titles':title1[:10],'job location':location1[:10],'compamy name':company1[:10],'experience required':experience1[:10]})\n",
    "df2"
   ]
  },
  {
   "cell_type": "code",
   "execution_count": 110,
   "id": "7276db2e",
   "metadata": {},
   "outputs": [],
   "source": [
    "#question 3\n",
    "driver2=webdriver.Chrome()"
   ]
  },
  {
   "cell_type": "code",
   "execution_count": 111,
   "id": "96dc5015",
   "metadata": {},
   "outputs": [],
   "source": [
    "#step 1: get the flipkart page url\n",
    "driver2.get('https://www.flipkart.com/  ')"
   ]
  },
  {
   "cell_type": "code",
   "execution_count": 112,
   "id": "43372aee",
   "metadata": {},
   "outputs": [],
   "source": [
    "#step 2: type sunglasses in the search field\n",
    "a=driver2.find_element(By.CLASS_NAME,\"Pke_EE\")\n",
    "a.send_keys('sunglasses')"
   ]
  },
  {
   "cell_type": "code",
   "execution_count": 113,
   "id": "3f38d2fb",
   "metadata": {},
   "outputs": [],
   "source": [
    "#step 3: clicking on the search button\n",
    "b=driver2.find_element(By.XPATH,'/html/body/div[1]/div/div[1]/div/div/div/div/div[1]/div/div[1]/div/div[1]/div[1]/header/div[1]/div[2]/form/div/button')\n",
    "b.click()"
   ]
  },
  {
   "cell_type": "code",
   "execution_count": 114,
   "id": "5063451d",
   "metadata": {},
   "outputs": [],
   "source": [
    "#step 4: scraping the data with clicking on the next button until data reaches 100(here page 3)\n",
    "brand2=[]\n",
    "product2=[]\n",
    "price2=[]"
   ]
  },
  {
   "cell_type": "code",
   "execution_count": 122,
   "id": "371d7880",
   "metadata": {},
   "outputs": [
    {
     "data": {
      "text/plain": [
       "['Singco India',\n",
       " 'Singco India',\n",
       " 'SRPM',\n",
       " 'Fastrack',\n",
       " 'Elligator',\n",
       " 'Fastrack',\n",
       " 'Aarna Fashion',\n",
       " 'Singco India',\n",
       " 'ROADWAY',\n",
       " 'Fastrack',\n",
       " 'Singco India',\n",
       " 'Singco India',\n",
       " 'Elligator',\n",
       " 'peter india',\n",
       " 'ROADWAY',\n",
       " 'Elligator',\n",
       " 'LOUIS KOUROS',\n",
       " 'Singco India',\n",
       " 'Aarna Fashion',\n",
       " 'Elligator',\n",
       " 'ROYAL SON',\n",
       " 'Eyewearlabs',\n",
       " 'Elligator',\n",
       " 'VINCENT CHASE',\n",
       " 'PIRASO',\n",
       " 'Fastrack',\n",
       " 'Eyewearlabs',\n",
       " 'Nicole Miller',\n",
       " 'Aarna Fashion',\n",
       " 'Rich Club',\n",
       " 'LOUIS KOUROS',\n",
       " 'LOUIS KOUROS',\n",
       " 'VINCENT CHASE',\n",
       " 'PIRASO',\n",
       " 'Capitalpoint',\n",
       " 'Hooper',\n",
       " 'Singco India',\n",
       " 'EYELLUSION',\n",
       " 'Fastrack',\n",
       " 'Elligator',\n",
       " 'Singco India',\n",
       " 'Singco India',\n",
       " 'VINCENT CHASE',\n",
       " 'PIRASO',\n",
       " 'SRPM',\n",
       " 'PIRASO',\n",
       " 'Singco India',\n",
       " 'LOUIS KOUROS',\n",
       " 'ROADWAY',\n",
       " 'VINCENT CHASE',\n",
       " 'Singco India',\n",
       " 'ROYAL SON',\n",
       " 'PIRASO',\n",
       " 'PIRASO',\n",
       " 'Elligator',\n",
       " 'PIRASO',\n",
       " 'Eyewearlabs',\n",
       " 'Eyewearlabs',\n",
       " 'Rich Club',\n",
       " 'PIRASO',\n",
       " 'Nicole Miller',\n",
       " 'LOUIS KOUROS',\n",
       " 'DEIXELS',\n",
       " 'ROADWAY',\n",
       " 'VINCENT CHASE',\n",
       " 'Elligator',\n",
       " 'Singco India',\n",
       " 'LOUIS KOUROS',\n",
       " 'PIRASO',\n",
       " 'VINCENT CHASE',\n",
       " 'EYELLUSION',\n",
       " 'Singco India',\n",
       " 'hipe',\n",
       " 'ROZZETTA CRAFT',\n",
       " 'PIRASO',\n",
       " 'Fastrack',\n",
       " 'AISLIN',\n",
       " 'Irayz',\n",
       " 'HRX by Hrithik Roshan',\n",
       " 'RBGIIT',\n",
       " 'AISLIN',\n",
       " 'AISLIN',\n",
       " 'ROYAL SON',\n",
       " 'Ray-Ban',\n",
       " 'OAKLEY',\n",
       " 'Royaltail',\n",
       " 'ROYAL SON',\n",
       " 'Resist',\n",
       " 'AISLIN',\n",
       " 'Fastrack',\n",
       " 'AISLIN',\n",
       " 'AISLIN',\n",
       " 'METRONAUT',\n",
       " 'Ray-Ban',\n",
       " 'Elligator',\n",
       " 'john jacobs',\n",
       " 'Ann Taylor',\n",
       " 'ROYAL SON',\n",
       " 'john jacobs',\n",
       " 'VINCENT CHASE',\n",
       " 'AISLIN',\n",
       " 'Ann Taylor',\n",
       " 'ROYAL SON',\n",
       " 'hayden haiza',\n",
       " 'AISLIN',\n",
       " 'Lenskart STUDIO',\n",
       " 'Ann Taylor',\n",
       " 'Ann Taylor',\n",
       " 'AISLIN',\n",
       " 'IRUS',\n",
       " 'Nicole Miller',\n",
       " 'AMOUR',\n",
       " 'VINCENT CHASE',\n",
       " 'NuVew',\n",
       " 'AISLIN',\n",
       " 'HRX by Hrithik Roshan',\n",
       " 'AISLIN',\n",
       " 'AISLIN',\n",
       " 'IRUS',\n",
       " 'AISLIN']"
      ]
     },
     "execution_count": 122,
     "metadata": {},
     "output_type": "execute_result"
    }
   ],
   "source": [
    "\n",
    "brands=[]\n",
    "start=0\n",
    "end=3\n",
    "for page in range(start,end):\n",
    "    titles=driver2.find_elements(By.XPATH,'//div[@class=\"_2WkVRV\"]')\n",
    "    for i in titles:\n",
    "        brands.append(i.text)\n",
    "    next_button=driver2.find_element(By.XPATH,'/html/body/div/div/div[3]/div[1]/div[2]/div[12]/div/div/nav/a[11]')\n",
    "    next_button.click()\n",
    "    time.sleep(3)\n",
    "brands"
   ]
  },
  {
   "cell_type": "code",
   "execution_count": 123,
   "id": "becacc5d",
   "metadata": {},
   "outputs": [
    {
     "data": {
      "text/plain": [
       "120"
      ]
     },
     "execution_count": 123,
     "metadata": {},
     "output_type": "execute_result"
    }
   ],
   "source": [
    "len(brands)"
   ]
  },
  {
   "cell_type": "code",
   "execution_count": 124,
   "id": "2b446aa0",
   "metadata": {},
   "outputs": [
    {
     "data": {
      "text/plain": [
       "['UV Protection, Riding Glasses, Gradient Clubmaster Sung...',\n",
       " 'Mirrored Wayfarer Sunglasses (50)',\n",
       " 'UV Protection Wayfarer Sunglasses (58)',\n",
       " 'UV Protection, Mirrored Wayfarer Sunglasses (52)',\n",
       " 'UV Protection Rectangular Sunglasses (Free Size)',\n",
       " 'UV Protection Aviator Sunglasses (50)',\n",
       " 'UV Protection, Riding Glasses Retro Square, Rectangular...',\n",
       " 'UV Protection Retro Square Sunglasses (Free Size)',\n",
       " 'Gradient, UV Protection Wayfarer Sunglasses (Free Size)',\n",
       " 'Polarized, UV Protection Wayfarer, Retro Square Sunglas...',\n",
       " 'Riding Glasses, UV Protection Clubmaster, Wayfarer Sung...',\n",
       " 'UV Protection Wayfarer Sunglasses (53)',\n",
       " 'Polarized Aviator Sunglasses (Free Size)',\n",
       " 'UV Protection Wayfarer, Sports, Spectacle , Retro Squar...',\n",
       " 'UV Protection Wayfarer Sunglasses (50)',\n",
       " 'Gradient, Toughened Glass Lens, UV Protection Retro Squ...',\n",
       " 'UV Protection Retro Square Sunglasses (50)',\n",
       " 'UV Protection Cat-eye, Retro Square, Oval, Round Sungla...',\n",
       " 'Polarized, UV Protection Retro Square Sunglasses (55)',\n",
       " 'Polarized, UV Protection Wayfarer Sunglasses (51)',\n",
       " 'UV Protection Retro Square Sunglasses (54)',\n",
       " 'by Lenskart Polarized, UV Protection Wayfarer Sunglasse...',\n",
       " 'UV Protection Over-sized Sunglasses (60)',\n",
       " 'UV Protection Aviator Sunglasses (58)',\n",
       " 'Polarized Butterfly Sunglasses (64)',\n",
       " 'UV Protection Sports Sunglasses (50)',\n",
       " 'UV Protection Retro Square Sunglasses (54)',\n",
       " 'Polarized, UV Protection Retro Square Sunglasses (54)',\n",
       " 'by Lenskart UV Protection Wayfarer Sunglasses (59)',\n",
       " 'UV Protection Over-sized Sunglasses (65)',\n",
       " 'Polarized Aviator Sunglasses (Free Size)',\n",
       " 'UV Protection Wayfarer Sunglasses (45)',\n",
       " 'Mirrored, UV Protection, Riding Glasses, Others Wrap-ar...',\n",
       " 'Night Vision, Polarized, UV Protection, Riding Glasses ...',\n",
       " 'UV Protection Aviator Sunglasses (58)',\n",
       " 'UV Protection Round Sunglasses (53)',\n",
       " 'UV Protection, Riding Glasses Retro Square, Rectangular...',\n",
       " 'Polarized, UV Protection Wayfarer, Retro Square Sunglas...',\n",
       " 'by Lenskart Polarized, UV Protection Wayfarer Sunglasse...',\n",
       " 'UV Protection Butterfly Sunglasses (60)',\n",
       " 'UV Protection, Gradient Aviator Sunglasses (56)',\n",
       " 'UV Protection Aviator Sunglasses (54)',\n",
       " 'Riding Glasses, UV Protection Clubmaster, Wayfarer Sung...',\n",
       " 'UV Protection Retro Square Sunglasses (Free Size)',\n",
       " 'by Lenskart Polarized, UV Protection Wayfarer Sunglasse...',\n",
       " 'Gradient, Toughened Glass Lens, UV Protection Retro Squ...',\n",
       " 'Polarized, UV Protection Retro Square Sunglasses (55)',\n",
       " 'UV Protection Wayfarer Sunglasses (32)',\n",
       " 'UV Protection Butterfly Sunglasses (60)',\n",
       " 'UV Protection Wayfarer Sunglasses (52)',\n",
       " 'UV Protection Aviator Sunglasses (Free Size)',\n",
       " 'Polarized, UV Protection Wayfarer Sunglasses (51)',\n",
       " 'Polarized Butterfly Sunglasses (64)',\n",
       " 'UV Protection Retro Square Sunglasses (54)',\n",
       " 'UV Protection Retro Square Sunglasses (54)',\n",
       " 'Mirrored, UV Protection, Riding Glasses, Others Wrap-ar...',\n",
       " 'Polarized, UV Protection, Riding Glasses Wayfarer Sungl...',\n",
       " 'UV Protection Retro Square, Wayfarer, Sports Sunglasses...',\n",
       " 'by Lenskart Polarized, UV Protection Round Sunglasses (...',\n",
       " 'UV Protection Cat-eye, Retro Square, Oval, Round Sungla...',\n",
       " 'Polarized, UV Protection Retro Square Sunglasses (54)',\n",
       " 'UV Protection Wayfarer Sunglasses (56)',\n",
       " 'by Lenskart UV Protection Clubmaster Sunglasses (55)',\n",
       " 'Night Vision, Polarized, UV Protection, Riding Glasses ...',\n",
       " 'UV Protection, Riding Glasses, Others Wayfarer Sunglass...',\n",
       " 'UV Protection, Riding Glasses, Gradient Wrap-around, Sp...',\n",
       " 'UV Protection Retro Square Sunglasses (Free Size)',\n",
       " 'UV Protection Aviator Sunglasses (56)',\n",
       " 'UV Protection Wayfarer Sunglasses (Free Size)',\n",
       " 'Polarized, UV Protection Wayfarer, Round Sunglasses (52...',\n",
       " 'UV Protection, Riding Glasses Retro Square Sunglasses (...',\n",
       " 'Polarized Aviator Sunglasses (59)',\n",
       " 'Night Vision, UV Protection, Polarized Wrap-around Sung...',\n",
       " 'UV Protection, Gradient Butterfly, Wayfarer Sunglasses ...',\n",
       " 'UV Protection, Gradient Butterfly, Wayfarer Sunglasses ...',\n",
       " 'UV Protection, Gradient Butterfly Sunglasses (62)',\n",
       " 'Shield Sunglass',\n",
       " 'Polarized Aviator Sunglasses (58)',\n",
       " 'UV Protection, Gradient Round, Cat-eye Sunglasses (60)',\n",
       " 'Polarized, UV Protection Wayfarer, Retro Square Sunglas...',\n",
       " 'UV Protection Wayfarer Sunglasses (58)',\n",
       " 'Gradient Round Sunglasses (Free Size)',\n",
       " 'UV Protection Butterfly, Retro Square Sunglasses (62)',\n",
       " 'UV Protection Wayfarer, Over-sized Sunglasses (61)',\n",
       " 'UV Protection Sunglass',\n",
       " 'UV Protection Round Sunglasses (53)',\n",
       " 'UV Protection Retro Square Sunglasses (55)',\n",
       " 'UV Protection, Photochromatic Lens Aviator Sunglasses (...',\n",
       " 'UV Protection Round Sunglasses (52)',\n",
       " 'UV Protection, Polarized Round Sunglasses (50)',\n",
       " 'by Lenskart Polarized, UV Protection Rectangular Sungla...',\n",
       " 'UV Protection Retro Square Sunglasses (60)',\n",
       " 'UV Protection Wayfarer, Rectangular Sunglasses (58)',\n",
       " 'Polarized, UV Protection Round Sunglasses (52)',\n",
       " 'UV Protection Rectangular Sunglasses (47)',\n",
       " 'Toughened Glass Lens, UV Protection Aviator Sunglasses ...',\n",
       " 'Polarized, UV Protection Rectangular Sunglasses (54)',\n",
       " 'UV Protection Aviator Sunglasses (54)',\n",
       " 'UV Protection Aviator Sunglasses (54)',\n",
       " 'Toughened Glass Lens, UV Protection Aviator, Wrap-aroun...',\n",
       " 'UV Protection Retro Square Sunglasses (50)',\n",
       " 'Polarized Retro Square Sunglasses (52)',\n",
       " 'by Lenskart Polarized, UV Protection Wayfarer Sunglasse...',\n",
       " 'UV Protection Sports, Wrap-around Sunglasses (70)',\n",
       " 'UV Protection Oval Sunglasses (60)',\n",
       " 'UV Protection Aviator Sunglasses (58)',\n",
       " 'UV Protection, Gradient Cat-eye Sunglasses (61)',\n",
       " 'Toughened Glass Lens, UV Protection Aviator Sunglasses ...',\n",
       " 'UV Protection Aviator Sunglasses (56)',\n",
       " 'UV Protection Wayfarer Sunglasses (59)']"
      ]
     },
     "execution_count": 124,
     "metadata": {},
     "output_type": "execute_result"
    }
   ],
   "source": [
    "product_description=[]\n",
    "for page in range(0,3):\n",
    "    product=driver2.find_elements(By.XPATH,'//a[@class=\"IRpwTa\"]')\n",
    "    for i in product:\n",
    "        product_description.append(i.text)\n",
    "    next=driver2.find_element(By.XPATH,'/html/body/div/div/div[3]/div[1]/div[2]/div[12]/div/div/nav/a[11]')\n",
    "    next.click()\n",
    "    time.sleep(3)\n",
    "product_description"
   ]
  },
  {
   "cell_type": "code",
   "execution_count": 125,
   "id": "38785d0a",
   "metadata": {},
   "outputs": [
    {
     "data": {
      "text/plain": [
       "110"
      ]
     },
     "execution_count": 125,
     "metadata": {},
     "output_type": "execute_result"
    }
   ],
   "source": [
    "len(product_description)"
   ]
  },
  {
   "cell_type": "code",
   "execution_count": 126,
   "id": "9e6a4816",
   "metadata": {},
   "outputs": [
    {
     "data": {
      "text/plain": [
       "['₹249',\n",
       " '₹249',\n",
       " '₹169',\n",
       " '₹569',\n",
       " '₹169',\n",
       " '₹539',\n",
       " '₹325',\n",
       " '₹499',\n",
       " '₹349',\n",
       " '₹599',\n",
       " '₹375',\n",
       " '₹340',\n",
       " '₹169',\n",
       " '₹259',\n",
       " '₹254',\n",
       " '₹169',\n",
       " '₹1,079',\n",
       " '₹590',\n",
       " '₹519',\n",
       " '₹149',\n",
       " '₹639',\n",
       " '₹1,236',\n",
       " '₹159',\n",
       " '₹449',\n",
       " '₹279',\n",
       " '₹769',\n",
       " '₹2,499',\n",
       " '₹1,079',\n",
       " '₹275',\n",
       " '₹399',\n",
       " '₹1,332',\n",
       " '₹1,999',\n",
       " '₹499',\n",
       " '₹299',\n",
       " '₹247',\n",
       " '₹487',\n",
       " '₹314',\n",
       " '₹349',\n",
       " '₹829',\n",
       " '₹159',\n",
       " '₹499',\n",
       " '₹375',\n",
       " '₹399',\n",
       " '₹299',\n",
       " '₹297',\n",
       " '₹210',\n",
       " '₹340',\n",
       " '₹1,079',\n",
       " '₹372',\n",
       " '₹499',\n",
       " '₹590',\n",
       " '₹639',\n",
       " '₹199',\n",
       " '₹388',\n",
       " '₹169',\n",
       " '₹290',\n",
       " '₹1,999',\n",
       " '₹1,236',\n",
       " '₹399',\n",
       " '₹232',\n",
       " '₹2,499',\n",
       " '₹1,079',\n",
       " '₹187',\n",
       " '₹209',\n",
       " '₹599',\n",
       " '₹169',\n",
       " '₹314',\n",
       " '₹1,332',\n",
       " '₹221',\n",
       " '₹749',\n",
       " '₹349',\n",
       " '₹319',\n",
       " '₹269',\n",
       " '₹459',\n",
       " '₹296',\n",
       " '₹589',\n",
       " '₹560',\n",
       " '₹374',\n",
       " '₹779',\n",
       " '₹233',\n",
       " '₹717',\n",
       " '₹418',\n",
       " '₹559',\n",
       " '₹7,039',\n",
       " '₹6,829',\n",
       " '₹1,118',\n",
       " '₹516',\n",
       " '₹899',\n",
       " '₹649',\n",
       " '₹1,884',\n",
       " '₹1,417',\n",
       " '₹516',\n",
       " '₹249',\n",
       " '₹7,039',\n",
       " '₹282',\n",
       " '₹1,499',\n",
       " '₹2,499',\n",
       " '₹2,499',\n",
       " '₹2,924',\n",
       " '₹879',\n",
       " '₹541',\n",
       " '₹489',\n",
       " '₹679',\n",
       " '₹169',\n",
       " '₹624',\n",
       " '₹1,111',\n",
       " '₹2,499',\n",
       " '₹2,499',\n",
       " '₹549',\n",
       " '₹359',\n",
       " '₹518',\n",
       " '₹2,499',\n",
       " '₹449',\n",
       " '₹499',\n",
       " '₹542',\n",
       " '₹1,039',\n",
       " '₹245',\n",
       " '₹418',\n",
       " '₹569',\n",
       " '₹715']"
      ]
     },
     "execution_count": 126,
     "metadata": {},
     "output_type": "execute_result"
    }
   ],
   "source": [
    "price=[]\n",
    "for page in range(0,3):\n",
    "    p=driver2.find_elements(By.XPATH,'//div[@class=\"_30jeq3\"]')\n",
    "    for i in p:\n",
    "        price.append(i.text)\n",
    "    next=driver2.find_element(By.XPATH,'/html/body/div/div/div[3]/div[1]/div[2]/div[12]/div/div/nav/a[11]')\n",
    "    next.click()\n",
    "    time.sleep(3)\n",
    "price"
   ]
  },
  {
   "cell_type": "code",
   "execution_count": 127,
   "id": "34773b2f",
   "metadata": {},
   "outputs": [
    {
     "data": {
      "text/plain": [
       "120"
      ]
     },
     "execution_count": 127,
     "metadata": {},
     "output_type": "execute_result"
    }
   ],
   "source": [
    "len(price)"
   ]
  },
  {
   "cell_type": "code",
   "execution_count": 128,
   "id": "367f9614",
   "metadata": {},
   "outputs": [
    {
     "data": {
      "text/html": [
       "<div>\n",
       "<style scoped>\n",
       "    .dataframe tbody tr th:only-of-type {\n",
       "        vertical-align: middle;\n",
       "    }\n",
       "\n",
       "    .dataframe tbody tr th {\n",
       "        vertical-align: top;\n",
       "    }\n",
       "\n",
       "    .dataframe thead th {\n",
       "        text-align: right;\n",
       "    }\n",
       "</style>\n",
       "<table border=\"1\" class=\"dataframe\">\n",
       "  <thead>\n",
       "    <tr style=\"text-align: right;\">\n",
       "      <th></th>\n",
       "      <th>brands</th>\n",
       "      <th>product description</th>\n",
       "      <th>price</th>\n",
       "    </tr>\n",
       "  </thead>\n",
       "  <tbody>\n",
       "    <tr>\n",
       "      <th>0</th>\n",
       "      <td>Singco India</td>\n",
       "      <td>UV Protection, Riding Glasses, Gradient Clubma...</td>\n",
       "      <td>₹249</td>\n",
       "    </tr>\n",
       "    <tr>\n",
       "      <th>1</th>\n",
       "      <td>Singco India</td>\n",
       "      <td>Mirrored Wayfarer Sunglasses (50)</td>\n",
       "      <td>₹249</td>\n",
       "    </tr>\n",
       "    <tr>\n",
       "      <th>2</th>\n",
       "      <td>SRPM</td>\n",
       "      <td>UV Protection Wayfarer Sunglasses (58)</td>\n",
       "      <td>₹169</td>\n",
       "    </tr>\n",
       "    <tr>\n",
       "      <th>3</th>\n",
       "      <td>Fastrack</td>\n",
       "      <td>UV Protection, Mirrored Wayfarer Sunglasses (52)</td>\n",
       "      <td>₹569</td>\n",
       "    </tr>\n",
       "    <tr>\n",
       "      <th>4</th>\n",
       "      <td>Elligator</td>\n",
       "      <td>UV Protection Rectangular Sunglasses (Free Size)</td>\n",
       "      <td>₹169</td>\n",
       "    </tr>\n",
       "    <tr>\n",
       "      <th>...</th>\n",
       "      <td>...</td>\n",
       "      <td>...</td>\n",
       "      <td>...</td>\n",
       "    </tr>\n",
       "    <tr>\n",
       "      <th>95</th>\n",
       "      <td>john jacobs</td>\n",
       "      <td>Toughened Glass Lens, UV Protection Aviator Su...</td>\n",
       "      <td>₹1,499</td>\n",
       "    </tr>\n",
       "    <tr>\n",
       "      <th>96</th>\n",
       "      <td>Ann Taylor</td>\n",
       "      <td>Polarized, UV Protection Rectangular Sunglasse...</td>\n",
       "      <td>₹2,499</td>\n",
       "    </tr>\n",
       "    <tr>\n",
       "      <th>97</th>\n",
       "      <td>ROYAL SON</td>\n",
       "      <td>UV Protection Aviator Sunglasses (54)</td>\n",
       "      <td>₹2,499</td>\n",
       "    </tr>\n",
       "    <tr>\n",
       "      <th>98</th>\n",
       "      <td>john jacobs</td>\n",
       "      <td>UV Protection Aviator Sunglasses (54)</td>\n",
       "      <td>₹2,924</td>\n",
       "    </tr>\n",
       "    <tr>\n",
       "      <th>99</th>\n",
       "      <td>VINCENT CHASE</td>\n",
       "      <td>Toughened Glass Lens, UV Protection Aviator, W...</td>\n",
       "      <td>₹879</td>\n",
       "    </tr>\n",
       "  </tbody>\n",
       "</table>\n",
       "<p>100 rows × 3 columns</p>\n",
       "</div>"
      ],
      "text/plain": [
       "           brands                                product description   price\n",
       "0    Singco India  UV Protection, Riding Glasses, Gradient Clubma...    ₹249\n",
       "1    Singco India                  Mirrored Wayfarer Sunglasses (50)    ₹249\n",
       "2            SRPM             UV Protection Wayfarer Sunglasses (58)    ₹169\n",
       "3        Fastrack   UV Protection, Mirrored Wayfarer Sunglasses (52)    ₹569\n",
       "4       Elligator   UV Protection Rectangular Sunglasses (Free Size)    ₹169\n",
       "..            ...                                                ...     ...\n",
       "95    john jacobs  Toughened Glass Lens, UV Protection Aviator Su...  ₹1,499\n",
       "96     Ann Taylor  Polarized, UV Protection Rectangular Sunglasse...  ₹2,499\n",
       "97      ROYAL SON              UV Protection Aviator Sunglasses (54)  ₹2,499\n",
       "98    john jacobs              UV Protection Aviator Sunglasses (54)  ₹2,924\n",
       "99  VINCENT CHASE  Toughened Glass Lens, UV Protection Aviator, W...    ₹879\n",
       "\n",
       "[100 rows x 3 columns]"
      ]
     },
     "execution_count": 128,
     "metadata": {},
     "output_type": "execute_result"
    }
   ],
   "source": [
    "#step 5: creating a dataframe and putting the values in it\n",
    "import pandas as pd\n",
    "df3=pd.DataFrame({'brands':brands[:100],'product description':product_description[:100],'price':price[:100]})\n",
    "df3"
   ]
  },
  {
   "cell_type": "code",
   "execution_count": null,
   "id": "a7f78398",
   "metadata": {},
   "outputs": [],
   "source": []
  }
 ],
 "metadata": {
  "kernelspec": {
   "display_name": "Python 3 (ipykernel)",
   "language": "python",
   "name": "python3"
  },
  "language_info": {
   "codemirror_mode": {
    "name": "ipython",
    "version": 3
   },
   "file_extension": ".py",
   "mimetype": "text/x-python",
   "name": "python",
   "nbconvert_exporter": "python",
   "pygments_lexer": "ipython3",
   "version": "3.11.5"
  }
 },
 "nbformat": 4,
 "nbformat_minor": 5
}
